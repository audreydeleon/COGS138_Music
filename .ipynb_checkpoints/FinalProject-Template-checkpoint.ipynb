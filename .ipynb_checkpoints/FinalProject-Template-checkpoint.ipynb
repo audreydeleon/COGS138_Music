{
 "cells": [
  {
   "cell_type": "markdown",
   "metadata": {},
   "source": [
    "# UC San Diego: Neural Data Science\n",
    "## Final Project Title (change this to your project's title)"
   ]
  },
  {
   "cell_type": "markdown",
   "metadata": {},
   "source": [
    "## Permissions\n",
    "\n",
    "Place an `X` in the appropriate bracket below to specify if you would like your group's project to be made available to the public. (Note that student names will be included (but PIDs will be scraped from any groups who include their PIDs).\n",
    "\n",
    "* [  ] YES - make available\n",
    "* [  ] NO - keep private"
   ]
  },
  {
   "cell_type": "markdown",
   "metadata": {},
   "source": [
    "# Names\n",
    "\n",
    "- Black Panther\n",
    "- Black Widow\n",
    "- Hulk\n",
    "- Iron Man\n",
    "- Thor\n",
    "- Vision\n",
    "- Wanda"
   ]
  },
  {
   "cell_type": "markdown",
   "metadata": {},
   "source": [
    "# Overview"
   ]
  },
  {
   "cell_type": "markdown",
   "metadata": {},
   "source": [
    "* Write a clear, 3-4 sentence summary of what you did and why."
   ]
  },
  {
   "cell_type": "markdown",
   "metadata": {},
   "source": [
    "<a id='research_question'></a>\n",
    "# Research Question"
   ]
  },
  {
   "cell_type": "markdown",
   "metadata": {},
   "source": [
    "* One sentence that describes the question you address in your project. Make sure what you’re measuring (variables) to answer your question is clear!\n"
   ]
  },
  {
   "cell_type": "markdown",
   "metadata": {},
   "source": [
    "<a id='background'></a>\n",
    "\n",
    "## Background & Prior Work"
   ]
  },
  {
   "cell_type": "markdown",
   "metadata": {},
   "source": [
    "* In 2-3 paragraphs, describe the motivation behind your question. What’s the big picture, and why is it interesting? Are there published papers addressing aspects of your question? You should cite at least three primary references here. You are welcome to replicate published papers using publicly available data, just cite them and explain why!\n",
    "\n",
    "References (include links):\n",
    "- 1)\n",
    "- 2)"
   ]
  },
  {
   "cell_type": "markdown",
   "metadata": {},
   "source": [
    "# Hypothesis\n"
   ]
  },
  {
   "cell_type": "markdown",
   "metadata": {},
   "source": [
    "*Fill in your hypotheses here*"
   ]
  },
  {
   "cell_type": "markdown",
   "metadata": {},
   "source": [
    "# Dataset(s)"
   ]
  },
  {
   "cell_type": "markdown",
   "metadata": {},
   "source": [
    "*Fill in your dataset information here*\n",
    "\n",
    "(Copy this information for each dataset)\n",
    "- Dataset Name:\n",
    "- Link to the dataset:\n",
    "- Number of observations:\n",
    "\n",
    "1-2 sentences describing each dataset. \n",
    "\n",
    "If you plan to use multiple datasets, add 1-2 sentences about how you plan to combine these datasets."
   ]
  },
  {
   "cell_type": "markdown",
   "metadata": {},
   "source": [
    "# Data Wrangling"
   ]
  },
  {
   "cell_type": "markdown",
   "metadata": {},
   "source": [
    "* In the case of our code, the data wrangling will be done utilizing both the MNE, Pandas, Scipy, and Librosa libraries. MNE is important for getting information from our EEG data, which is sourced from files with the file type '.edf'. Pandas will be utilized to load in any tabular data. In the case of our research, we will be using this when loading in our events data to determine the start times for when each song plays in its respective EEG reading, the type of song it is, and the song file. Using these song files, we can then go into Scipy to load in these '.wav' files using Scipy's 'wavfile' method then using Librosa methods to extract the necessary features we need. In the case of our project and the way the original dataset is formatted, we needed to wrap all the code for our wrangling, cleaning, and processing into a nested for loop to do all these steps efficiently. We have attached snippets for the data wrangling code for a randomly selected run below to showcase how the process works outside of this loop."
   ]
  },
  {
   "cell_type": "markdown",
   "metadata": {},
   "source": [
    "## Loading in EEG Data"
   ]
  },
  {
   "cell_type": "code",
   "execution_count": 8,
   "metadata": {},
   "outputs": [
    {
     "name": "stdout",
     "output_type": "stream",
     "text": [
      "Extracting EDF parameters from /Users/rakesh/Downloads/COGS138/COGS138_Music/sub-02/eeg/sub-02_task-run3_eeg.edf...\n",
      "EDF file detected\n",
      "Setting channel info structure...\n",
      "Creating raw.info structure...\n"
     ]
    },
    {
     "data": {
      "text/html": [
       "\n",
       "\n",
       "<table class=\"table table-hover table-striped table-sm table-responsive small\">\n",
       "    <tr>\n",
       "        <th>Measurement date</th>\n",
       "<td>Unknown</td>\n",
       "    </tr>\n",
       "    <tr>\n",
       "        <th>Experimenter</th>\n",
       "<td>Unknown</td>\n",
       "    </tr>\n",
       "        <th>Participant</th>\n",
       "<td>Unknown</td>\n",
       "    </tr>\n",
       "    <tr>\n",
       "        <th>Digitized points</th>\n",
       "        <td>Not available</td>\n",
       "    </tr>\n",
       "    <tr>\n",
       "        <th>Good channels</th>\n",
       "        <td>37 EEG</td>\n",
       "    </tr>\n",
       "    <tr>\n",
       "        <th>Bad channels</th>\n",
       "        <td>None</td>\n",
       "    </tr>\n",
       "    <tr>\n",
       "        <th>EOG channels</th>\n",
       "        <td>Not available</td>\n",
       "    </tr>\n",
       "    <tr>\n",
       "        <th>ECG channels</th>\n",
       "        <td>Not available</td>\n",
       "    <tr>\n",
       "        <th>Sampling frequency</th>\n",
       "        <td>1000.00 Hz</td>\n",
       "    </tr>\n",
       "    <tr>\n",
       "        <th>Highpass</th>\n",
       "        <td>0.00 Hz</td>\n",
       "    </tr>\n",
       "    <tr>\n",
       "        <th>Lowpass</th>\n",
       "        <td>500.00 Hz</td>\n",
       "    </tr>\n",
       "\n",
       "    <tr>\n",
       "        <th>Filenames</th>\n",
       "        <td>sub-02_task-run3_eeg.edf</td>\n",
       "    </tr>\n",
       "    <tr>\n",
       "        <th>Duration</th>\n",
       "        <td>00:16:02 (HH:MM:SS)</td>\n",
       "    </tr>\n",
       "</table>\n"
      ],
      "text/plain": [
       "<RawEDF | sub-02_task-run3_eeg.edf, 37 x 963000 (963.0 s), ~40 kB, data not loaded>"
      ]
     },
     "execution_count": 8,
     "metadata": {},
     "output_type": "execute_result"
    }
   ],
   "source": [
    "import pandas as pd\n",
    "import numpy as np\n",
    "import os\n",
    "import mne\n",
    "import mne\n",
    "import scipy\n",
    "import librosa\n",
    "import matplotlib.pyplot as plt\n",
    "import librosa.display\n",
    "from scipy.io import wavfile\n",
    "import warnings\n",
    "\n",
    "b = mne.io.read_raw_edf('./sub-02/eeg/sub-02_task-run3_eeg.edf')\n",
    "warnings.filterwarnings('ignore')\n",
    "b"
   ]
  },
  {
   "cell_type": "markdown",
   "metadata": {},
   "source": [
    "## Loading in the song onsets, types, and files into a Pandas DataFrame"
   ]
  },
  {
   "cell_type": "code",
   "execution_count": 4,
   "metadata": {},
   "outputs": [
    {
     "data": {
      "text/html": [
       "<div>\n",
       "<style scoped>\n",
       "    .dataframe tbody tr th:only-of-type {\n",
       "        vertical-align: middle;\n",
       "    }\n",
       "\n",
       "    .dataframe tbody tr th {\n",
       "        vertical-align: top;\n",
       "    }\n",
       "\n",
       "    .dataframe thead th {\n",
       "        text-align: right;\n",
       "    }\n",
       "</style>\n",
       "<table border=\"1\" class=\"dataframe\">\n",
       "  <thead>\n",
       "    <tr style=\"text-align: right;\">\n",
       "      <th></th>\n",
       "      <th>onset</th>\n",
       "      <th>song_type</th>\n",
       "      <th>song_value</th>\n",
       "      <th>song_files</th>\n",
       "      <th>song_longName</th>\n",
       "    </tr>\n",
       "  </thead>\n",
       "  <tbody>\n",
       "    <tr>\n",
       "      <th>0</th>\n",
       "      <td>9.274</td>\n",
       "      <td>4</td>\n",
       "      <td>105</td>\n",
       "      <td>nvna6.wav</td>\n",
       "      <td>LVNA</td>\n",
       "    </tr>\n",
       "    <tr>\n",
       "      <th>1</th>\n",
       "      <td>57.172</td>\n",
       "      <td>4</td>\n",
       "      <td>81</td>\n",
       "      <td>nvha6.wav</td>\n",
       "      <td>LVNA</td>\n",
       "    </tr>\n",
       "    <tr>\n",
       "      <th>2</th>\n",
       "      <td>108.175</td>\n",
       "      <td>3</td>\n",
       "      <td>62</td>\n",
       "      <td>lvna10.wav</td>\n",
       "      <td>HVLA</td>\n",
       "    </tr>\n",
       "    <tr>\n",
       "      <th>3</th>\n",
       "      <td>163.586</td>\n",
       "      <td>6</td>\n",
       "      <td>92</td>\n",
       "      <td>nvla5.wav</td>\n",
       "      <td>HVNA</td>\n",
       "    </tr>\n",
       "    <tr>\n",
       "      <th>4</th>\n",
       "      <td>214.362</td>\n",
       "      <td>7</td>\n",
       "      <td>44</td>\n",
       "      <td>lvha5.wav</td>\n",
       "      <td>LVHA</td>\n",
       "    </tr>\n",
       "    <tr>\n",
       "      <th>5</th>\n",
       "      <td>263.112</td>\n",
       "      <td>6</td>\n",
       "      <td>5</td>\n",
       "      <td>hvha2.wav</td>\n",
       "      <td>HVNA</td>\n",
       "    </tr>\n",
       "    <tr>\n",
       "      <th>6</th>\n",
       "      <td>322.994</td>\n",
       "      <td>5</td>\n",
       "      <td>6</td>\n",
       "      <td>hvha3.wav</td>\n",
       "      <td>NVNA</td>\n",
       "    </tr>\n",
       "    <tr>\n",
       "      <th>7</th>\n",
       "      <td>373.027</td>\n",
       "      <td>9</td>\n",
       "      <td>8</td>\n",
       "      <td>hvha5.wav</td>\n",
       "      <td>HVHA</td>\n",
       "    </tr>\n",
       "    <tr>\n",
       "      <th>8</th>\n",
       "      <td>436.314</td>\n",
       "      <td>3</td>\n",
       "      <td>99</td>\n",
       "      <td>nvna11.wav</td>\n",
       "      <td>HVLA</td>\n",
       "    </tr>\n",
       "    <tr>\n",
       "      <th>9</th>\n",
       "      <td>487.550</td>\n",
       "      <td>2</td>\n",
       "      <td>18</td>\n",
       "      <td>hvla3.wav</td>\n",
       "      <td>NVLA</td>\n",
       "    </tr>\n",
       "    <tr>\n",
       "      <th>10</th>\n",
       "      <td>531.359</td>\n",
       "      <td>5</td>\n",
       "      <td>78</td>\n",
       "      <td>nvha3.wav</td>\n",
       "      <td>NVNA</td>\n",
       "    </tr>\n",
       "    <tr>\n",
       "      <th>11</th>\n",
       "      <td>584.341</td>\n",
       "      <td>4</td>\n",
       "      <td>79</td>\n",
       "      <td>nvha4.wav</td>\n",
       "      <td>LVNA</td>\n",
       "    </tr>\n",
       "    <tr>\n",
       "      <th>12</th>\n",
       "      <td>636.524</td>\n",
       "      <td>4</td>\n",
       "      <td>103</td>\n",
       "      <td>nvna4.wav</td>\n",
       "      <td>LVNA</td>\n",
       "    </tr>\n",
       "    <tr>\n",
       "      <th>13</th>\n",
       "      <td>688.503</td>\n",
       "      <td>3</td>\n",
       "      <td>52</td>\n",
       "      <td>lvla12.wav</td>\n",
       "      <td>HVLA</td>\n",
       "    </tr>\n",
       "    <tr>\n",
       "      <th>14</th>\n",
       "      <td>740.312</td>\n",
       "      <td>1</td>\n",
       "      <td>39</td>\n",
       "      <td>lvha11.wav</td>\n",
       "      <td>LVLA</td>\n",
       "    </tr>\n",
       "    <tr>\n",
       "      <th>15</th>\n",
       "      <td>792.073</td>\n",
       "      <td>4</td>\n",
       "      <td>42</td>\n",
       "      <td>lvha3.wav</td>\n",
       "      <td>LVNA</td>\n",
       "    </tr>\n",
       "    <tr>\n",
       "      <th>16</th>\n",
       "      <td>843.278</td>\n",
       "      <td>2</td>\n",
       "      <td>3</td>\n",
       "      <td>hvha11.wav</td>\n",
       "      <td>NVLA</td>\n",
       "    </tr>\n",
       "    <tr>\n",
       "      <th>17</th>\n",
       "      <td>920.173</td>\n",
       "      <td>2</td>\n",
       "      <td>40</td>\n",
       "      <td>lvha12.wav</td>\n",
       "      <td>NVLA</td>\n",
       "    </tr>\n",
       "  </tbody>\n",
       "</table>\n",
       "</div>"
      ],
      "text/plain": [
       "      onset  song_type  song_value  song_files song_longName\n",
       "0     9.274          4         105   nvna6.wav          LVNA\n",
       "1    57.172          4          81   nvha6.wav          LVNA\n",
       "2   108.175          3          62  lvna10.wav          HVLA\n",
       "3   163.586          6          92   nvla5.wav          HVNA\n",
       "4   214.362          7          44   lvha5.wav          LVHA\n",
       "5   263.112          6           5   hvha2.wav          HVNA\n",
       "6   322.994          5           6   hvha3.wav          NVNA\n",
       "7   373.027          9           8   hvha5.wav          HVHA\n",
       "8   436.314          3          99  nvna11.wav          HVLA\n",
       "9   487.550          2          18   hvla3.wav          NVLA\n",
       "10  531.359          5          78   nvha3.wav          NVNA\n",
       "11  584.341          4          79   nvha4.wav          LVNA\n",
       "12  636.524          4         103   nvna4.wav          LVNA\n",
       "13  688.503          3          52  lvla12.wav          HVLA\n",
       "14  740.312          1          39  lvha11.wav          LVLA\n",
       "15  792.073          4          42   lvha3.wav          LVNA\n",
       "16  843.278          2           3  hvha11.wav          NVLA\n",
       "17  920.173          2          40  lvha12.wav          NVLA"
      ]
     },
     "execution_count": 4,
     "metadata": {},
     "output_type": "execute_result"
    }
   ],
   "source": [
    "init_df = pd.read_csv('./sub-02/eeg/sub-02_task-run3_events.tsv', sep = '\\t')\n",
    "wav_files = ['hvha1.wav', 'hvha10.wav', 'hvha11.wav', 'hvha12.wav', 'hvha2.wav','hvha3.wav', 'hvha4.wav', 'hvha5.wav', 'hvha6.wav', 'hvha7.wav',        'hvha8.wav', 'hvha9.wav', 'hvla1.wav', 'hvla10.wav', 'hvla11.wav',       'hvla12.wav', 'hvla2.wav', 'hvla3.wav', 'hvla4.wav', 'hvla5.wav',        'hvla6.wav', 'hvla7.wav', 'hvla8.wav', 'hvla9.wav',         'hvna1.wav', 'hvna10.wav', 'hvna11.wav', 'hvna12.wav', 'hvna2.wav',         'hvna3.wav', 'hvna4.wav', 'hvna5.wav', 'hvna6.wav', 'hvna7.wav' ,         'hvna8.wav', 'hvna9.wav', 'lvha1.wav', 'lvha10.wav', 'lvha11.wav',         'lvha12.wav', 'lvha2.wav', 'lvha3.wav' ,'lvha4.wav', 'lvha5.wav',         'lvha6.wav', 'lvha7.wav', 'lvha8.wav', 'lvha9.wav', 'lvla1.wav' ,         'lvla10.wav', 'lvla11.wav', 'lvla12.wav', 'lvla2.wav', 'lvla3.wav',         'lvla4.wav', 'lvla5.wav',  'lvla6.wav', 'lvla7.wav', 'lvla8.wav' ,         'lvla9.wav', 'lvna1.wav', 'lvna10.wav', 'lvna11.wav' , 'lvna12.wav',         'lvna2.wav', 'lvna3.wav', 'lvna4.wav', 'lvna5.wav', 'lvna6.wav',         'lvna7.wav', 'lvna8.wav', 'lvna9.wav', 'nvha1.wav', 'nvha10.wav',         'nvha11.wav', 'nvha12.wav', 'nvha2.wav', 'nvha3.wav', 'nvha4.wav',         'nvha5.wav', 'nvha6.wav', 'nvha7.wav', 'nvha8.wav', 'nvha9.wav',         'nvla1.wav', 'nvla10.wav', 'nvla11.wav', 'nvla12.wav', 'nvla2.wav',         'nvla3.wav', 'nvla4.wav', 'nvla5.wav', 'nvla6.wav', 'nvla7.wav',         'nvla8.wav', 'nvla9.wav', 'nvna1.wav', 'nvna10.wav', 'nvna11.wav',         'nvna12.wav', 'nvna2.wav', 'nvna3.wav', 'nvna4.wav', 'nvna5.wav',         'nvna6.wav', 'nvna7.wav', 'nvna8.wav', 'nvna9.wav']\n",
    "song_types = ['LVLA', 'NVLA','HVLA', 'LVNA', 'NVNA', 'HVNA', 'LVHA','NVHA','HVHA']\n",
    "df = pd.DataFrame({'onset': init_df['onset'].iloc[::2].values, 'song_type':init_df['trial_type'].iloc[::2].values, 'song_value':init_df['trial_type'].iloc[1::2].values})\n",
    "df['song_value'] = df['song_value'] - 100\n",
    "list_of_songs = []\n",
    "for i in df.song_value:\n",
    "    file_name = wav_files[i-1]\n",
    "    list_of_songs.append(file_name)\n",
    "df['song_files'] = list_of_songs\n",
    "song_longName = []\n",
    "for i in df['song_type']:\n",
    "    song_longName.append(song_types[i-1])\n",
    "df['song_longName'] = song_longName\n",
    "df"
   ]
  },
  {
   "cell_type": "markdown",
   "metadata": {},
   "source": [
    "## Accessing the .wav files and relevant MFCC data for each one"
   ]
  },
  {
   "cell_type": "code",
   "execution_count": 7,
   "metadata": {},
   "outputs": [
    {
     "data": {
      "text/html": [
       "<div>\n",
       "<style scoped>\n",
       "    .dataframe tbody tr th:only-of-type {\n",
       "        vertical-align: middle;\n",
       "    }\n",
       "\n",
       "    .dataframe tbody tr th {\n",
       "        vertical-align: top;\n",
       "    }\n",
       "\n",
       "    .dataframe thead th {\n",
       "        text-align: right;\n",
       "    }\n",
       "</style>\n",
       "<table border=\"1\" class=\"dataframe\">\n",
       "  <thead>\n",
       "    <tr style=\"text-align: right;\">\n",
       "      <th></th>\n",
       "      <th>onset</th>\n",
       "      <th>song_type</th>\n",
       "      <th>song_value</th>\n",
       "      <th>song_files</th>\n",
       "      <th>song_longName</th>\n",
       "      <th>MFCC</th>\n",
       "    </tr>\n",
       "  </thead>\n",
       "  <tbody>\n",
       "    <tr>\n",
       "      <th>0</th>\n",
       "      <td>9.274</td>\n",
       "      <td>4</td>\n",
       "      <td>105</td>\n",
       "      <td>nvna6.wav</td>\n",
       "      <td>LVNA</td>\n",
       "      <td>[[[1687.9974894669529, 1687.9974894669529, 168...</td>\n",
       "    </tr>\n",
       "    <tr>\n",
       "      <th>1</th>\n",
       "      <td>57.172</td>\n",
       "      <td>4</td>\n",
       "      <td>81</td>\n",
       "      <td>nvha6.wav</td>\n",
       "      <td>LVNA</td>\n",
       "      <td>[[[594.5762101242709, 594.5762101242709, 594.5...</td>\n",
       "    </tr>\n",
       "    <tr>\n",
       "      <th>2</th>\n",
       "      <td>108.175</td>\n",
       "      <td>3</td>\n",
       "      <td>62</td>\n",
       "      <td>lvna10.wav</td>\n",
       "      <td>HVLA</td>\n",
       "      <td>[[[1687.5354002213599, 1687.5354002213599, 168...</td>\n",
       "    </tr>\n",
       "    <tr>\n",
       "      <th>3</th>\n",
       "      <td>163.586</td>\n",
       "      <td>6</td>\n",
       "      <td>92</td>\n",
       "      <td>nvla5.wav</td>\n",
       "      <td>HVNA</td>\n",
       "      <td>[[[605.0384535866119, 605.0384535866119, 605.0...</td>\n",
       "    </tr>\n",
       "    <tr>\n",
       "      <th>4</th>\n",
       "      <td>214.362</td>\n",
       "      <td>7</td>\n",
       "      <td>44</td>\n",
       "      <td>lvha5.wav</td>\n",
       "      <td>LVHA</td>\n",
       "      <td>[[[581.8458843476286, 581.8458843476286, 581.8...</td>\n",
       "    </tr>\n",
       "    <tr>\n",
       "      <th>5</th>\n",
       "      <td>263.112</td>\n",
       "      <td>6</td>\n",
       "      <td>5</td>\n",
       "      <td>hvha2.wav</td>\n",
       "      <td>HVNA</td>\n",
       "      <td>[[[574.7667146407146, 574.7667146407146, 574.7...</td>\n",
       "    </tr>\n",
       "    <tr>\n",
       "      <th>6</th>\n",
       "      <td>322.994</td>\n",
       "      <td>5</td>\n",
       "      <td>6</td>\n",
       "      <td>hvha3.wav</td>\n",
       "      <td>NVNA</td>\n",
       "      <td>[[[585.8629369343998, 585.8629369343998, 585.8...</td>\n",
       "    </tr>\n",
       "    <tr>\n",
       "      <th>7</th>\n",
       "      <td>373.027</td>\n",
       "      <td>9</td>\n",
       "      <td>8</td>\n",
       "      <td>hvha5.wav</td>\n",
       "      <td>HVHA</td>\n",
       "      <td>[[[742.9234046007232, 766.0213869782094, 766.4...</td>\n",
       "    </tr>\n",
       "    <tr>\n",
       "      <th>8</th>\n",
       "      <td>436.314</td>\n",
       "      <td>3</td>\n",
       "      <td>99</td>\n",
       "      <td>nvna11.wav</td>\n",
       "      <td>HVLA</td>\n",
       "      <td>[[[1666.3546467678034, 1666.3546467678034, 166...</td>\n",
       "    </tr>\n",
       "    <tr>\n",
       "      <th>9</th>\n",
       "      <td>487.550</td>\n",
       "      <td>2</td>\n",
       "      <td>18</td>\n",
       "      <td>hvla3.wav</td>\n",
       "      <td>NVLA</td>\n",
       "      <td>[[[589.5659364546844, 589.5659364546844, 589.5...</td>\n",
       "    </tr>\n",
       "    <tr>\n",
       "      <th>10</th>\n",
       "      <td>531.359</td>\n",
       "      <td>5</td>\n",
       "      <td>78</td>\n",
       "      <td>nvha3.wav</td>\n",
       "      <td>NVNA</td>\n",
       "      <td>[[[572.3257157504328, 572.3257157504328, 572.3...</td>\n",
       "    </tr>\n",
       "    <tr>\n",
       "      <th>11</th>\n",
       "      <td>584.341</td>\n",
       "      <td>4</td>\n",
       "      <td>79</td>\n",
       "      <td>nvha4.wav</td>\n",
       "      <td>LVNA</td>\n",
       "      <td>[[[596.7489012768872, 596.7489012768872, 597.6...</td>\n",
       "    </tr>\n",
       "    <tr>\n",
       "      <th>12</th>\n",
       "      <td>636.524</td>\n",
       "      <td>4</td>\n",
       "      <td>103</td>\n",
       "      <td>nvna4.wav</td>\n",
       "      <td>LVNA</td>\n",
       "      <td>[[[1778.935489921467, 1820.894950753544, 1825....</td>\n",
       "    </tr>\n",
       "    <tr>\n",
       "      <th>13</th>\n",
       "      <td>688.503</td>\n",
       "      <td>3</td>\n",
       "      <td>52</td>\n",
       "      <td>lvla12.wav</td>\n",
       "      <td>HVLA</td>\n",
       "      <td>[[[580.5898252361316, 580.5898252361316, 580.5...</td>\n",
       "    </tr>\n",
       "    <tr>\n",
       "      <th>14</th>\n",
       "      <td>740.312</td>\n",
       "      <td>1</td>\n",
       "      <td>39</td>\n",
       "      <td>lvha11.wav</td>\n",
       "      <td>LVLA</td>\n",
       "      <td>[[[720.949019845076, 743.4357257290832, 745.76...</td>\n",
       "    </tr>\n",
       "    <tr>\n",
       "      <th>15</th>\n",
       "      <td>792.073</td>\n",
       "      <td>4</td>\n",
       "      <td>42</td>\n",
       "      <td>lvha3.wav</td>\n",
       "      <td>LVNA</td>\n",
       "      <td>[[[609.871382245174, 609.871382245174, 609.871...</td>\n",
       "    </tr>\n",
       "    <tr>\n",
       "      <th>16</th>\n",
       "      <td>843.278</td>\n",
       "      <td>2</td>\n",
       "      <td>3</td>\n",
       "      <td>hvha11.wav</td>\n",
       "      <td>NVLA</td>\n",
       "      <td>[[[628.0057971247244, 724.1340482202351, 787.6...</td>\n",
       "    </tr>\n",
       "    <tr>\n",
       "      <th>17</th>\n",
       "      <td>920.173</td>\n",
       "      <td>2</td>\n",
       "      <td>40</td>\n",
       "      <td>lvha12.wav</td>\n",
       "      <td>NVLA</td>\n",
       "      <td>[[[686.2478899881571, 702.9212629561731, 710.1...</td>\n",
       "    </tr>\n",
       "  </tbody>\n",
       "</table>\n",
       "</div>"
      ],
      "text/plain": [
       "      onset  song_type  song_value  song_files song_longName  \\\n",
       "0     9.274          4         105   nvna6.wav          LVNA   \n",
       "1    57.172          4          81   nvha6.wav          LVNA   \n",
       "2   108.175          3          62  lvna10.wav          HVLA   \n",
       "3   163.586          6          92   nvla5.wav          HVNA   \n",
       "4   214.362          7          44   lvha5.wav          LVHA   \n",
       "5   263.112          6           5   hvha2.wav          HVNA   \n",
       "6   322.994          5           6   hvha3.wav          NVNA   \n",
       "7   373.027          9           8   hvha5.wav          HVHA   \n",
       "8   436.314          3          99  nvna11.wav          HVLA   \n",
       "9   487.550          2          18   hvla3.wav          NVLA   \n",
       "10  531.359          5          78   nvha3.wav          NVNA   \n",
       "11  584.341          4          79   nvha4.wav          LVNA   \n",
       "12  636.524          4         103   nvna4.wav          LVNA   \n",
       "13  688.503          3          52  lvla12.wav          HVLA   \n",
       "14  740.312          1          39  lvha11.wav          LVLA   \n",
       "15  792.073          4          42   lvha3.wav          LVNA   \n",
       "16  843.278          2           3  hvha11.wav          NVLA   \n",
       "17  920.173          2          40  lvha12.wav          NVLA   \n",
       "\n",
       "                                                 MFCC  \n",
       "0   [[[1687.9974894669529, 1687.9974894669529, 168...  \n",
       "1   [[[594.5762101242709, 594.5762101242709, 594.5...  \n",
       "2   [[[1687.5354002213599, 1687.5354002213599, 168...  \n",
       "3   [[[605.0384535866119, 605.0384535866119, 605.0...  \n",
       "4   [[[581.8458843476286, 581.8458843476286, 581.8...  \n",
       "5   [[[574.7667146407146, 574.7667146407146, 574.7...  \n",
       "6   [[[585.8629369343998, 585.8629369343998, 585.8...  \n",
       "7   [[[742.9234046007232, 766.0213869782094, 766.4...  \n",
       "8   [[[1666.3546467678034, 1666.3546467678034, 166...  \n",
       "9   [[[589.5659364546844, 589.5659364546844, 589.5...  \n",
       "10  [[[572.3257157504328, 572.3257157504328, 572.3...  \n",
       "11  [[[596.7489012768872, 596.7489012768872, 597.6...  \n",
       "12  [[[1778.935489921467, 1820.894950753544, 1825....  \n",
       "13  [[[580.5898252361316, 580.5898252361316, 580.5...  \n",
       "14  [[[720.949019845076, 743.4357257290832, 745.76...  \n",
       "15  [[[609.871382245174, 609.871382245174, 609.871...  \n",
       "16  [[[628.0057971247244, 724.1340482202351, 787.6...  \n",
       "17  [[[686.2478899881571, 702.9212629561731, 710.1...  "
      ]
     },
     "execution_count": 7,
     "metadata": {},
     "output_type": "execute_result"
    }
   ],
   "source": [
    "wav_mfcc_data = []\n",
    "warnings.filterwarnings('ignore')\n",
    "for j in range(len(list_of_songs)):\n",
    "    rate, wav_file = wavfile.read('./stimuli/' + list_of_songs[j])\n",
    "    wav_array = np.array(wav_file.T,dtype=float)\n",
    "#     tempo_vals = librosa.feature.tempogram(wav_array, sr=1000)\n",
    "    #Find largest coefficent for dct/mfcc\n",
    "    mfcc_vals = librosa.feature.mfcc(wav_array, sr=1000)\n",
    "    wav_mfcc_data.append(mfcc_vals)\n",
    "df['MFCC'] = pd.Series(wav_mfcc_data)\n",
    "df"
   ]
  },
  {
   "cell_type": "markdown",
   "metadata": {},
   "source": [
    "# Data Cleaning"
   ]
  },
  {
   "cell_type": "markdown",
   "metadata": {},
   "source": [
    "* Describe your data cleaning steps here."
   ]
  },
  {
   "cell_type": "code",
   "execution_count": 2,
   "metadata": {},
   "outputs": [],
   "source": [
    "## YOUR CODE HERE\n",
    "## FEEL FREE TO ADD MULTIPLE CELLS PER SECTION"
   ]
  },
  {
   "cell_type": "markdown",
   "metadata": {},
   "source": [
    "# Data Visualization"
   ]
  },
  {
   "cell_type": "markdown",
   "metadata": {},
   "source": [
    "* This is a good place for some relevant visualizations related to any exploratory data anlayses (EDA) you did after the basic cleaning."
   ]
  },
  {
   "cell_type": "markdown",
   "metadata": {},
   "source": [
    "# Data Analysis & Results"
   ]
  },
  {
   "cell_type": "markdown",
   "metadata": {},
   "source": [
    "* Include cells that describe the steps in your data analysis.\n",
    "* You'll likely also have some visualizations here as well."
   ]
  },
  {
   "cell_type": "code",
   "execution_count": 1,
   "metadata": {},
   "outputs": [],
   "source": [
    "## YOUR CODE HERE\n",
    "## FEEL FREE TO ADD MULTIPLE CELLS PER SECTION"
   ]
  },
  {
   "cell_type": "markdown",
   "metadata": {},
   "source": [
    "# Conclusion & Discussion"
   ]
  },
  {
   "cell_type": "markdown",
   "metadata": {},
   "source": [
    "* Discussion of your results and how they address your experimental question(s).\n",
    "* Discussed limitations of your analyses.\n",
    "* You can also discuss future directions you'd like to pursue."
   ]
  }
 ],
 "metadata": {
  "kernelspec": {
   "display_name": "Python 3 (ipykernel)",
   "language": "python",
   "name": "python3"
  },
  "language_info": {
   "codemirror_mode": {
    "name": "ipython",
    "version": 3
   },
   "file_extension": ".py",
   "mimetype": "text/x-python",
   "name": "python",
   "nbconvert_exporter": "python",
   "pygments_lexer": "ipython3",
   "version": "3.7.11"
  }
 },
 "nbformat": 4,
 "nbformat_minor": 2
}
